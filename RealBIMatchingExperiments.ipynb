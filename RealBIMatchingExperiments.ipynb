{
 "cells": [
  {
   "cell_type": "code",
   "execution_count": 1,
   "metadata": {},
   "outputs": [],
   "source": [
    "import numpy as np\n",
    "import torch\n",
    "from transformers import DPTFeatureExtractor, DPTForDepthEstimation\n",
    "from PIL import Image\n",
    "import os"
   ]
  },
  {
   "cell_type": "markdown",
   "metadata": {},
   "source": [
    "# Depth Estimation"
   ]
  },
  {
   "cell_type": "code",
   "execution_count": 2,
   "metadata": {},
   "outputs": [
    {
     "name": "stderr",
     "output_type": "stream",
     "text": [
      "/home/deep-sewer/.conda/envs/huggingface/lib/python3.10/site-packages/transformers/models/dpt/feature_extraction_dpt.py:28: FutureWarning: The class DPTFeatureExtractor is deprecated and will be removed in version 5 of Transformers. Please use DPTImageProcessor instead.\n",
      "  warnings.warn(\n",
      "Some weights of DPTForDepthEstimation were not initialized from the model checkpoint at Intel/dpt-large and are newly initialized: ['neck.fusion_stage.layers.0.residual_layer1.convolution2.bias', 'neck.fusion_stage.layers.0.residual_layer1.convolution1.bias', 'neck.fusion_stage.layers.0.residual_layer1.convolution2.weight', 'neck.fusion_stage.layers.0.residual_layer1.convolution1.weight']\n",
      "You should probably TRAIN this model on a down-stream task to be able to use it for predictions and inference.\n"
     ]
    }
   ],
   "source": [
    "feature_extractor = DPTFeatureExtractor.from_pretrained(\"Intel/dpt-large\")\n",
    "model = DPTForDepthEstimation.from_pretrained(\"Intel/dpt-large\")\n",
    "\n",
    "\n",
    "def estimate_depth_dpt(image):\n",
    "        # prepare image for the model\n",
    "        encoding = feature_extractor(image, return_tensors=\"pt\")\n",
    "        # forward pass\n",
    "        with torch.no_grad():\n",
    "            outputs = model(**encoding)\n",
    "            predicted_depth = outputs.predicted_depth\n",
    "        # interpolate to original size\n",
    "        prediction = torch.nn.functional.interpolate(\n",
    "                            predicted_depth.unsqueeze(1),\n",
    "                            size=image.size[::-1],\n",
    "                            mode=\"bicubic\",\n",
    "                            align_corners=False,\n",
    "                        ).squeeze()\n",
    "        output = prediction.cpu().numpy()\n",
    "        formatted = (output * 255 / np.max(output)).astype('uint8')\n",
    "        img = Image.fromarray(formatted)\n",
    "        #convert to cv2\n",
    "        img = np.array(img)\n",
    "        return img"
   ]
  },
  {
   "cell_type": "markdown",
   "metadata": {},
   "source": [
    "# Loftr"
   ]
  },
  {
   "cell_type": "code",
   "execution_count": 3,
   "metadata": {},
   "outputs": [],
   "source": [
    "from LoFTR.src.loftr import LoFTR, default_cfg\n",
    "\n",
    "matcher = LoFTR(config=default_cfg)\n",
    "matcher.load_state_dict(torch.load('LoFTR/weights/outdoor_ds.ckpt')['state_dict'])\n",
    "def compute_matches_loftr(fname_depthA,fname_depthB,match_th=0.1):\n",
    " \n",
    "    loftr_matcher = matcher.eval().cuda()\n",
    "    \n",
    "    img0 = torch.from_numpy(fname_depthA)[None][None].cuda() / 255.\n",
    "    img1 = torch.from_numpy(fname_depthB)[None][None].cuda() / 255.\n",
    "    batch = {'image0': img0, 'image1': img1}\n",
    "\n",
    "    # Inference with LoFTR and get prediction\n",
    "    with torch.no_grad():\n",
    "        loftr_matcher(batch)\n",
    "        mkpts0 = batch['mkpts0_f'].cpu().numpy()\n",
    "        mkpts1 = batch['mkpts1_f'].cpu().numpy()\n",
    "        mconf = batch['mconf'].cpu().numpy()\n",
    "    \n",
    "    mkpts0 = mkpts0[mconf>match_th]\n",
    "    mkpts1 = mkpts1[mconf>match_th]\n",
    "    mconf = mconf[mconf>match_th]\n",
    "    return mkpts0, mkpts1, mconf\n"
   ]
  },
  {
   "cell_type": "markdown",
   "metadata": {},
   "source": [
    "# Real vs BIM Matching"
   ]
  },
  {
   "cell_type": "code",
   "execution_count": 4,
   "metadata": {},
   "outputs": [],
   "source": [
    "\n",
    "def real_bim_matching(real_img_file,bim_img_file):\n",
    "    real_img = Image.open(real_img_file).convert(\"RGB\").resize((640,480))\n",
    "    bim_img = Image.open(bim_img_file).convert(\"RGB\").resize((640,480))\n",
    "    real_img_depth = estimate_depth_dpt(real_img)\n",
    "    bim_img_depth = estimate_depth_dpt(bim_img)\n",
    "    mkpts0, mkpts1, mconf = compute_matches_loftr(real_img_depth,bim_img_depth)\n",
    "    return np.mean(mconf), len(mconf)\n",
    "\n"
   ]
  },
  {
   "cell_type": "markdown",
   "metadata": {},
   "source": [
    "# Compute Image matching metrics"
   ]
  },
  {
   "cell_type": "code",
   "execution_count": 5,
   "metadata": {},
   "outputs": [
    {
     "name": "stdout",
     "output_type": "stream",
     "text": [
      "Computing Matching Scores\n"
     ]
    },
    {
     "name": "stderr",
     "output_type": "stream",
     "text": [
      "  0%|          | 0/9 [00:00<?, ?it/s]/home/deep-sewer/Workspace/RealvsBim/LoFTR/src/loftr/utils/coarse_matching.py:246: UserWarning: __floordiv__ is deprecated, and its behavior will change in a future version of pytorch. It currently rounds toward 0 (like the 'trunc' function NOT 'floor'). This results in incorrect rounding for negative values. To keep the current behavior, use torch.div(a, b, rounding_mode='trunc'), or for actual floor division, use torch.div(a, b, rounding_mode='floor').\n",
      "  [i_ids % data['hw0_c'][1], i_ids // data['hw0_c'][1]],\n",
      "/home/deep-sewer/Workspace/RealvsBim/LoFTR/src/loftr/utils/coarse_matching.py:249: UserWarning: __floordiv__ is deprecated, and its behavior will change in a future version of pytorch. It currently rounds toward 0 (like the 'trunc' function NOT 'floor'). This results in incorrect rounding for negative values. To keep the current behavior, use torch.div(a, b, rounding_mode='trunc'), or for actual floor division, use torch.div(a, b, rounding_mode='floor').\n",
      "  [j_ids % data['hw1_c'][1], j_ids // data['hw1_c'][1]],\n",
      "/tmp/ipykernel_15279/3955047636.py:16: FutureWarning: The frame.append method is deprecated and will be removed from pandas in a future version. Use pandas.concat instead.\n",
      "  df_results = df_results.append({'real_img':real_img_name, 'bim_img':bim_img_name,'n_matches':n_matches,'avg_score':mean_matching_score},ignore_index=True)\n",
      " 11%|█         | 1/9 [00:04<00:37,  4.64s/it]/home/deep-sewer/Workspace/RealvsBim/LoFTR/src/loftr/utils/coarse_matching.py:246: UserWarning: __floordiv__ is deprecated, and its behavior will change in a future version of pytorch. It currently rounds toward 0 (like the 'trunc' function NOT 'floor'). This results in incorrect rounding for negative values. To keep the current behavior, use torch.div(a, b, rounding_mode='trunc'), or for actual floor division, use torch.div(a, b, rounding_mode='floor').\n",
      "  [i_ids % data['hw0_c'][1], i_ids // data['hw0_c'][1]],\n",
      "/home/deep-sewer/Workspace/RealvsBim/LoFTR/src/loftr/utils/coarse_matching.py:249: UserWarning: __floordiv__ is deprecated, and its behavior will change in a future version of pytorch. It currently rounds toward 0 (like the 'trunc' function NOT 'floor'). This results in incorrect rounding for negative values. To keep the current behavior, use torch.div(a, b, rounding_mode='trunc'), or for actual floor division, use torch.div(a, b, rounding_mode='floor').\n",
      "  [j_ids % data['hw1_c'][1], j_ids // data['hw1_c'][1]],\n",
      "/tmp/ipykernel_15279/3955047636.py:16: FutureWarning: The frame.append method is deprecated and will be removed from pandas in a future version. Use pandas.concat instead.\n",
      "  df_results = df_results.append({'real_img':real_img_name, 'bim_img':bim_img_name,'n_matches':n_matches,'avg_score':mean_matching_score},ignore_index=True)\n",
      " 22%|██▏       | 2/9 [00:07<00:23,  3.41s/it]/home/deep-sewer/Workspace/RealvsBim/LoFTR/src/loftr/utils/coarse_matching.py:246: UserWarning: __floordiv__ is deprecated, and its behavior will change in a future version of pytorch. It currently rounds toward 0 (like the 'trunc' function NOT 'floor'). This results in incorrect rounding for negative values. To keep the current behavior, use torch.div(a, b, rounding_mode='trunc'), or for actual floor division, use torch.div(a, b, rounding_mode='floor').\n",
      "  [i_ids % data['hw0_c'][1], i_ids // data['hw0_c'][1]],\n",
      "/home/deep-sewer/Workspace/RealvsBim/LoFTR/src/loftr/utils/coarse_matching.py:249: UserWarning: __floordiv__ is deprecated, and its behavior will change in a future version of pytorch. It currently rounds toward 0 (like the 'trunc' function NOT 'floor'). This results in incorrect rounding for negative values. To keep the current behavior, use torch.div(a, b, rounding_mode='trunc'), or for actual floor division, use torch.div(a, b, rounding_mode='floor').\n",
      "  [j_ids % data['hw1_c'][1], j_ids // data['hw1_c'][1]],\n",
      "/tmp/ipykernel_15279/3955047636.py:16: FutureWarning: The frame.append method is deprecated and will be removed from pandas in a future version. Use pandas.concat instead.\n",
      "  df_results = df_results.append({'real_img':real_img_name, 'bim_img':bim_img_name,'n_matches':n_matches,'avg_score':mean_matching_score},ignore_index=True)\n",
      " 33%|███▎      | 3/9 [00:09<00:18,  3.00s/it]/home/deep-sewer/Workspace/RealvsBim/LoFTR/src/loftr/utils/coarse_matching.py:246: UserWarning: __floordiv__ is deprecated, and its behavior will change in a future version of pytorch. It currently rounds toward 0 (like the 'trunc' function NOT 'floor'). This results in incorrect rounding for negative values. To keep the current behavior, use torch.div(a, b, rounding_mode='trunc'), or for actual floor division, use torch.div(a, b, rounding_mode='floor').\n",
      "  [i_ids % data['hw0_c'][1], i_ids // data['hw0_c'][1]],\n",
      "/home/deep-sewer/Workspace/RealvsBim/LoFTR/src/loftr/utils/coarse_matching.py:249: UserWarning: __floordiv__ is deprecated, and its behavior will change in a future version of pytorch. It currently rounds toward 0 (like the 'trunc' function NOT 'floor'). This results in incorrect rounding for negative values. To keep the current behavior, use torch.div(a, b, rounding_mode='trunc'), or for actual floor division, use torch.div(a, b, rounding_mode='floor').\n",
      "  [j_ids % data['hw1_c'][1], j_ids // data['hw1_c'][1]],\n",
      "/tmp/ipykernel_15279/3955047636.py:16: FutureWarning: The frame.append method is deprecated and will be removed from pandas in a future version. Use pandas.concat instead.\n",
      "  df_results = df_results.append({'real_img':real_img_name, 'bim_img':bim_img_name,'n_matches':n_matches,'avg_score':mean_matching_score},ignore_index=True)\n",
      " 44%|████▍     | 4/9 [00:12<00:14,  2.81s/it]/home/deep-sewer/Workspace/RealvsBim/LoFTR/src/loftr/utils/coarse_matching.py:246: UserWarning: __floordiv__ is deprecated, and its behavior will change in a future version of pytorch. It currently rounds toward 0 (like the 'trunc' function NOT 'floor'). This results in incorrect rounding for negative values. To keep the current behavior, use torch.div(a, b, rounding_mode='trunc'), or for actual floor division, use torch.div(a, b, rounding_mode='floor').\n",
      "  [i_ids % data['hw0_c'][1], i_ids // data['hw0_c'][1]],\n",
      "/home/deep-sewer/Workspace/RealvsBim/LoFTR/src/loftr/utils/coarse_matching.py:249: UserWarning: __floordiv__ is deprecated, and its behavior will change in a future version of pytorch. It currently rounds toward 0 (like the 'trunc' function NOT 'floor'). This results in incorrect rounding for negative values. To keep the current behavior, use torch.div(a, b, rounding_mode='trunc'), or for actual floor division, use torch.div(a, b, rounding_mode='floor').\n",
      "  [j_ids % data['hw1_c'][1], j_ids // data['hw1_c'][1]],\n",
      "/tmp/ipykernel_15279/3955047636.py:16: FutureWarning: The frame.append method is deprecated and will be removed from pandas in a future version. Use pandas.concat instead.\n",
      "  df_results = df_results.append({'real_img':real_img_name, 'bim_img':bim_img_name,'n_matches':n_matches,'avg_score':mean_matching_score},ignore_index=True)\n",
      " 56%|█████▌    | 5/9 [00:14<00:10,  2.68s/it]/home/deep-sewer/Workspace/RealvsBim/LoFTR/src/loftr/utils/coarse_matching.py:246: UserWarning: __floordiv__ is deprecated, and its behavior will change in a future version of pytorch. It currently rounds toward 0 (like the 'trunc' function NOT 'floor'). This results in incorrect rounding for negative values. To keep the current behavior, use torch.div(a, b, rounding_mode='trunc'), or for actual floor division, use torch.div(a, b, rounding_mode='floor').\n",
      "  [i_ids % data['hw0_c'][1], i_ids // data['hw0_c'][1]],\n",
      "/home/deep-sewer/Workspace/RealvsBim/LoFTR/src/loftr/utils/coarse_matching.py:249: UserWarning: __floordiv__ is deprecated, and its behavior will change in a future version of pytorch. It currently rounds toward 0 (like the 'trunc' function NOT 'floor'). This results in incorrect rounding for negative values. To keep the current behavior, use torch.div(a, b, rounding_mode='trunc'), or for actual floor division, use torch.div(a, b, rounding_mode='floor').\n",
      "  [j_ids % data['hw1_c'][1], j_ids // data['hw1_c'][1]],\n",
      "/tmp/ipykernel_15279/3955047636.py:16: FutureWarning: The frame.append method is deprecated and will be removed from pandas in a future version. Use pandas.concat instead.\n",
      "  df_results = df_results.append({'real_img':real_img_name, 'bim_img':bim_img_name,'n_matches':n_matches,'avg_score':mean_matching_score},ignore_index=True)\n",
      " 67%|██████▋   | 6/9 [00:17<00:07,  2.61s/it]/home/deep-sewer/Workspace/RealvsBim/LoFTR/src/loftr/utils/coarse_matching.py:246: UserWarning: __floordiv__ is deprecated, and its behavior will change in a future version of pytorch. It currently rounds toward 0 (like the 'trunc' function NOT 'floor'). This results in incorrect rounding for negative values. To keep the current behavior, use torch.div(a, b, rounding_mode='trunc'), or for actual floor division, use torch.div(a, b, rounding_mode='floor').\n",
      "  [i_ids % data['hw0_c'][1], i_ids // data['hw0_c'][1]],\n",
      "/home/deep-sewer/Workspace/RealvsBim/LoFTR/src/loftr/utils/coarse_matching.py:249: UserWarning: __floordiv__ is deprecated, and its behavior will change in a future version of pytorch. It currently rounds toward 0 (like the 'trunc' function NOT 'floor'). This results in incorrect rounding for negative values. To keep the current behavior, use torch.div(a, b, rounding_mode='trunc'), or for actual floor division, use torch.div(a, b, rounding_mode='floor').\n",
      "  [j_ids % data['hw1_c'][1], j_ids // data['hw1_c'][1]],\n",
      "/tmp/ipykernel_15279/3955047636.py:16: FutureWarning: The frame.append method is deprecated and will be removed from pandas in a future version. Use pandas.concat instead.\n",
      "  df_results = df_results.append({'real_img':real_img_name, 'bim_img':bim_img_name,'n_matches':n_matches,'avg_score':mean_matching_score},ignore_index=True)\n",
      " 78%|███████▊  | 7/9 [00:19<00:05,  2.55s/it]/home/deep-sewer/Workspace/RealvsBim/LoFTR/src/loftr/utils/coarse_matching.py:246: UserWarning: __floordiv__ is deprecated, and its behavior will change in a future version of pytorch. It currently rounds toward 0 (like the 'trunc' function NOT 'floor'). This results in incorrect rounding for negative values. To keep the current behavior, use torch.div(a, b, rounding_mode='trunc'), or for actual floor division, use torch.div(a, b, rounding_mode='floor').\n",
      "  [i_ids % data['hw0_c'][1], i_ids // data['hw0_c'][1]],\n",
      "/home/deep-sewer/Workspace/RealvsBim/LoFTR/src/loftr/utils/coarse_matching.py:249: UserWarning: __floordiv__ is deprecated, and its behavior will change in a future version of pytorch. It currently rounds toward 0 (like the 'trunc' function NOT 'floor'). This results in incorrect rounding for negative values. To keep the current behavior, use torch.div(a, b, rounding_mode='trunc'), or for actual floor division, use torch.div(a, b, rounding_mode='floor').\n",
      "  [j_ids % data['hw1_c'][1], j_ids // data['hw1_c'][1]],\n",
      "/tmp/ipykernel_15279/3955047636.py:16: FutureWarning: The frame.append method is deprecated and will be removed from pandas in a future version. Use pandas.concat instead.\n",
      "  df_results = df_results.append({'real_img':real_img_name, 'bim_img':bim_img_name,'n_matches':n_matches,'avg_score':mean_matching_score},ignore_index=True)\n",
      " 89%|████████▉ | 8/9 [00:22<00:02,  2.52s/it]/home/deep-sewer/Workspace/RealvsBim/LoFTR/src/loftr/utils/coarse_matching.py:246: UserWarning: __floordiv__ is deprecated, and its behavior will change in a future version of pytorch. It currently rounds toward 0 (like the 'trunc' function NOT 'floor'). This results in incorrect rounding for negative values. To keep the current behavior, use torch.div(a, b, rounding_mode='trunc'), or for actual floor division, use torch.div(a, b, rounding_mode='floor').\n",
      "  [i_ids % data['hw0_c'][1], i_ids // data['hw0_c'][1]],\n",
      "/home/deep-sewer/Workspace/RealvsBim/LoFTR/src/loftr/utils/coarse_matching.py:249: UserWarning: __floordiv__ is deprecated, and its behavior will change in a future version of pytorch. It currently rounds toward 0 (like the 'trunc' function NOT 'floor'). This results in incorrect rounding for negative values. To keep the current behavior, use torch.div(a, b, rounding_mode='trunc'), or for actual floor division, use torch.div(a, b, rounding_mode='floor').\n",
      "  [j_ids % data['hw1_c'][1], j_ids // data['hw1_c'][1]],\n",
      "/tmp/ipykernel_15279/3955047636.py:16: FutureWarning: The frame.append method is deprecated and will be removed from pandas in a future version. Use pandas.concat instead.\n",
      "  df_results = df_results.append({'real_img':real_img_name, 'bim_img':bim_img_name,'n_matches':n_matches,'avg_score':mean_matching_score},ignore_index=True)\n",
      "100%|██████████| 9/9 [00:24<00:00,  2.72s/it]\n"
     ]
    }
   ],
   "source": [
    "import pandas as pd\n",
    "from tqdm import tqdm\n",
    "folder_path_real_imgs ='data/Sam/wetransfer_02_images_xmpfiles_2023-11-07_1050/02_Images_XMPfiles'\n",
    "folder_path_bim_imgs = 'data/Sam/wetransfer_02_images_xmpfiles_2023-11-07_1050/04_renderedImages'\n",
    "\n",
    "df = pd.read_csv('ImageNames_List.csv')\n",
    "df_results = pd.DataFrame(columns=['real_img','bim_img','n_matches','avg_score','mutual_information'])\n",
    "\n",
    "print('Computing Matching Scores')\n",
    "for i in tqdm(range(len(df))):\n",
    "    real_img_file = os.path.join(folder_path_real_imgs,df.iloc[i][0]+'.jpeg')\n",
    "    bim_img_file = os.path.join(folder_path_bim_imgs,df.iloc[i][1]+'.png')\n",
    "    real_img_name = real_img_file.split('/')[-1]\n",
    "    bim_img_name = bim_img_file.split('/')[-1]\n",
    "    mean_matching_score, n_matches = real_bim_matching(real_img_file,bim_img_file)\n",
    "    df_results = df_results.append({'real_img':real_img_name, 'bim_img':bim_img_name,'n_matches':n_matches,'avg_score':mean_matching_score},ignore_index=True)\n",
    "# save the results into a csv file\n",
    "df_results.to_csv('MatchingResults.csv',index=False)\n",
    "    \n"
   ]
  }
 ],
 "metadata": {
  "kernelspec": {
   "display_name": "huggingface",
   "language": "python",
   "name": "python3"
  },
  "language_info": {
   "codemirror_mode": {
    "name": "ipython",
    "version": 3
   },
   "file_extension": ".py",
   "mimetype": "text/x-python",
   "name": "python",
   "nbconvert_exporter": "python",
   "pygments_lexer": "ipython3",
   "version": "3.10.4"
  }
 },
 "nbformat": 4,
 "nbformat_minor": 2
}
